{
  "nbformat": 4,
  "nbformat_minor": 0,
  "metadata": {
    "colab": {
      "provenance": [],
      "authorship_tag": "ABX9TyMG92pXRd1S/MrPK3hGqO5g",
      "include_colab_link": true
    },
    "kernelspec": {
      "name": "python3",
      "display_name": "Python 3"
    },
    "language_info": {
      "name": "python"
    }
  },
  "cells": [
    {
      "cell_type": "markdown",
      "metadata": {
        "id": "view-in-github",
        "colab_type": "text"
      },
      "source": [
        "<a href=\"https://colab.research.google.com/github/TonAraguahy/Codigos/blob/main/transferir_dados_para_outra_planilha.ipynb\" target=\"_parent\"><img src=\"https://colab.research.google.com/assets/colab-badge.svg\" alt=\"Open In Colab\"/></a>"
      ]
    },
    {
      "cell_type": "markdown",
      "source": [
        "Instalar todos imports"
      ],
      "metadata": {
        "id": "R1S041U2J0RI"
      }
    },
    {
      "cell_type": "code",
      "source": [
        "# baixar todos os imports necessários pelo Google Colab\n",
        "\n",
        "from pydrive.auth import GoogleAuth\n",
        "from pydrive.drive import GoogleDrive\n",
        "from google.colab import auth\n",
        "from oauth2client.client import GoogleCredentials\n",
        "auth.authenticate_user()\n",
        "gauth = GoogleAuth()\n",
        "gauth.credentials = GoogleCredentials.get_application_default()\n",
        "drive = GoogleDrive(gauth)\n",
        "from google.colab import auth\n",
        "auth.authenticate_user()\n",
        "import gspread\n",
        "from google.auth import default\n",
        "creds, _ = default()\n",
        "gc = gspread.authorize(creds)\n",
        "import pandas as pd\n",
        "from gspread_dataframe import get_as_dataframe, set_with_dataframe"
      ],
      "metadata": {
        "id": "ybc707u9Jhw4"
      },
      "execution_count": null,
      "outputs": []
    },
    {
      "cell_type": "markdown",
      "source": [
        "Preparar planilha\n"
      ],
      "metadata": {
        "id": "YHHFLzylo47J"
      }
    },
    {
      "cell_type": "code",
      "source": [
        "#Chamo a planilha pelo nome dela usando gc.open\n",
        "\n",
        "worksheet = gc.open('SUPPS CLIENTES').sheet1\n",
        "\n",
        "# Chama a planilha e todos os valores da planilha, usa pandas para converter a estrutura dos dados e seleciona com a variavel \"cols\" quais colunas quer, pois no caso não quero todas as colunas\n",
        "rows = worksheet.get_all_values()\n",
        "df = pd.DataFrame.from_records(rows)\n",
        "cols = [8, 9, 11, 6, 7, 20, 21, 22, 23, 24, 1, 16]\n",
        "\n",
        "# df já é o nome da variavel que contem os dados e \"iloc\" é a função para separar esses dados com as colunas selecionadas por padrão coloca \":,\" e depois o nome da variavel \"cols\" que contem os números das colunas, criei depois col_names para dar nome as colunas no resultado final e chamei o resultado df.columns = col_names, lembrando que \"columns\" é função.\n",
        "\n",
        "df = df.iloc[:, cols]\n",
        "col_names = ['Unidade', 'Matricula', 'PlanoCliente',\n",
        "             'UF','Cidade','ValorFrete','Desconto',\n",
        "             'ValorNota','AtivosBlack','AtivosFit',\n",
        "             'AtivosSmart','DataEmissao']\n",
        "df.columns = col_names\n"
      ],
      "metadata": {
        "id": "HQMByQdIo7cQ"
      },
      "execution_count": null,
      "outputs": []
    },
    {
      "cell_type": "markdown",
      "source": [
        "Ativar extração de dados"
      ],
      "metadata": {
        "id": "5ZRUIhy-o97Y"
      }
    },
    {
      "cell_type": "code",
      "source": [
        "#Abaixo um filtro que usei para puxar apenas dados de uma chave especifica, que no caso estava em coluna \"Unidade\" e separei todas as chaves que queria em uma lista\n",
        "\n",
        "df = df[df['Unidade'].isin(['SPIRBP1',\t'SPIFRC1',\t'SPIMGC1',\t\n",
        "                    'SPIARQ1',\t'SPIRBP2',\t'SPIRBP3',\t\n",
        "                    'SPIARA1',\t'SPITBT1',\t'SPIPRP1',\t\n",
        "                    'MGIUBR1',\t'SPIJAC1',\t'PRIFIC1',\t\n",
        "                    'MGIMTC1',\t'SPIARS1',\t'MGIUBE1',\t\n",
        "                    'SPISJC5',\t'SPIMRL1',\t'SPISJC4',\t\n",
        "                    'SPIJAC2',\t'SPIRBP5',\t'PRIFIC2'])]\n",
        "\n",
        "#Essa função abaixo define qual planilha será a de destino, ou seja, onde colocaremos os dados                    \n",
        "\n",
        "sh = gc.open(\"REPORT'S Supps Jeferson\")\n",
        "\n",
        "# Tenta criar uma aba na planilha destino chamada \"dados\", coloca os dados nela. Se não conseguir, coloca em dados os dados.\n",
        "\n",
        "try:\n",
        "    worksheet = sh.add_worksheet(title=\"dados\", rows=df.shape[0], cols=df.shape[1])\n",
        "except Exception as e:\n",
        "    worksheet = sh.worksheet(\"dados\")\n",
        "set_with_dataframe(worksheet, df)\n",
        "\n",
        "\n"
      ],
      "metadata": {
        "id": "MpRxOnaRo9rn"
      },
      "execution_count": null,
      "outputs": []
    }
  ]
}